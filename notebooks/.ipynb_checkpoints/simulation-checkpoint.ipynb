{
 "cells": [
  {
   "cell_type": "markdown",
   "metadata": {},
   "source": [
    "# Waypoint surveying with behaviour trees"
   ]
  },
  {
   "cell_type": "code",
   "execution_count": 1,
   "metadata": {},
   "outputs": [],
   "source": [
    "import sys; sys.path.append(\"../src/\")"
   ]
  },
  {
   "cell_type": "markdown",
   "metadata": {},
   "source": [
    "# Farm environment"
   ]
  },
  {
   "cell_type": "code",
   "execution_count": 4,
   "metadata": {},
   "outputs": [
    {
     "data": {
      "image/png": "[encoded data removed]",
      "text/plain": [
       "<Figure size 432x288 with 1 Axes>"
      ]
     },
     "execution_count": 4,
     "metadata": {},
     "output_type": "execute_result"
    }
   ],
   "source": [
    "from farm import Farm\n",
    "\n",
    "# padding between walls and farm border\n",
    "dx, dy = 5, 10\n",
    "\n",
    "# wall seperation\n",
    "dw = 10\n",
    "\n",
    "# wall length\n",
    "lx = 10\n",
    "\n",
    "# number of walls\n",
    "N = 3\n",
    "\n",
    "# dock coordinates\n",
    "dsx, dsy = 30, 50\n",
    "\n",
    "# instantiate farm\n",
    "farm = Farm(dx, dy, dw, lx, N, dsx, dsy)\n",
    "\n",
    "# compute sequenced coverage way points\n",
    "waypoints = farm.simple_coverage()\n",
    "\n",
    "# visualise\n",
    "farm.plot()"
   ]
  },
  {
   "cell_type": "markdown",
   "metadata": {},
   "source": [
    "## Dynamics\n",
    "$\n",
    "\\dot{\\boldsymbol{s}} =\n",
    "\\left[\\begin{matrix}v_{x} & v_{y} & \\frac{T u_{x}}{m} u_{t} & \\frac{T u_{y}}{m} u_{t}\\end{matrix}\\right] ^\\intercal\n",
    "$"
   ]
  },
  {
   "cell_type": "code",
   "execution_count": 5,
   "metadata": {},
   "outputs": [],
   "source": [
    "from dynamics import Dynamics\n",
    "\n",
    "# maximum thrust [N]\n",
    "thrust = 1\n",
    "\n",
    "# mass [kg]\n",
    "mass = 10\n",
    "\n",
    "# instantiate AUV\n",
    "AUV = Dynamics(thrust, mass)"
   ]
  },
  {
   "cell_type": "code",
   "execution_count": null,
   "metadata": {},
   "outputs": [],
   "source": []
  }
 ],
 "metadata": {
  "kernelspec": {
   "display_name": "Python 3",
   "language": "python",
   "name": "python3"
  },
  "language_info": {
   "codemirror_mode": {
    "name": "ipython",
    "version": 3
   },
   "file_extension": ".py",
   "mimetype": "text/x-python",
   "name": "python",
   "nbconvert_exporter": "python",
   "pygments_lexer": "ipython3",
   "version": "3.6.5"
  }
 },
 "nbformat": 4,
 "nbformat_minor": 2
}
