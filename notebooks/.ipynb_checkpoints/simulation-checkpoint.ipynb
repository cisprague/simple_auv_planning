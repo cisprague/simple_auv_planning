{
 "cells": [
  {
   "cell_type": "markdown",
   "metadata": {},
   "source": [
    "# Waypoint surveying with behaviour trees"
   ]
  },
  {
   "cell_type": "code",
   "execution_count": 2,
   "metadata": {},
   "outputs": [],
   "source": [
    "import pygmo as pg, numpy as np, matplotlib.pyplot as plt, sys; sys.path.append(\"../src/\")"
   ]
  },
  {
   "cell_type": "markdown",
   "metadata": {},
   "source": [
    "# Farm environment"
   ]
  },
  {
   "cell_type": "code",
   "execution_count": 3,
   "metadata": {},
   "outputs": [
    {
     "data": {
      "image/png": "[encoded data removed]",
      "text/plain": [
       "<Figure size 432x288 with 1 Axes>"
      ]
     },
     "metadata": {},
     "output_type": "display_data"
    }
   ],
   "source": [
    "from farm import Farm\n",
    "\n",
    "# padding between walls and farm border\n",
    "dx, dy = 5, 10\n",
    "\n",
    "# wall seperation\n",
    "dw = 10\n",
    "\n",
    "# wall length\n",
    "lx = 10\n",
    "\n",
    "# number of walls\n",
    "N = 3\n",
    "\n",
    "# dock coordinates\n",
    "ds = [30, 30]\n",
    "\n",
    "# instantiate farm\n",
    "farm = Farm(dx, dy, dw, lx, N, *ds)\n",
    "\n",
    "# compute sequenced coverage way points\n",
    "waypoints = np.vstack((ds, farm.simple_coverage(), ds))\n",
    "\n",
    "# visualise\n",
    "farm.plot()\n",
    "plt.show()"
   ]
  },
  {
   "cell_type": "markdown",
   "metadata": {},
   "source": [
    "## Dynamics\n",
    "$\n",
    "\\dot{\\boldsymbol{s}} =\n",
    "\\left[\\begin{matrix}v_{x} & v_{y} & \\frac{T u_{x}}{m} u_{t} & \\frac{T u_{y}}{m} u_{t}\\end{matrix}\\right] ^\\intercal\n",
    "$"
   ]
  },
  {
   "cell_type": "code",
   "execution_count": 4,
   "metadata": {},
   "outputs": [],
   "source": [
    "from dynamics import Dynamics\n",
    "\n",
    "# maximum thrust [N]\n",
    "thrust = 5\n",
    "\n",
    "# mass [kg]\n",
    "mass = 25\n",
    "\n",
    "# instantiate AUV\n",
    "AUV = Dynamics(thrust, mass)\n",
    "AUV.alpha = 0"
   ]
  },
  {
   "cell_type": "markdown",
   "metadata": {},
   "source": [
    "## Trajectory"
   ]
  },
  {
   "cell_type": "code",
   "execution_count": 5,
   "metadata": {},
   "outputs": [],
   "source": [
    "from trajectory import Indirect\n",
    "\n",
    "# inirect trajectory\n",
    "traj = Indirect(AUV, parallel=True)\n",
    "\n",
    "# assemble bounds\n",
    "slb = np.hstack((waypoints, np.full((len(waypoints), 2), -1)))\n",
    "sub = np.hstack((waypoints, np.full((len(waypoints), 2), 1)))\n",
    "Tlb, Tub = 1, 1500\n",
    "\n",
    "# set trajectory\n",
    "traj.set_bounds(Tlb, Tub, slb, sub)"
   ]
  },
  {
   "cell_type": "code",
   "execution_count": 6,
   "metadata": {},
   "outputs": [
    {
     "ename": "AttributeError",
     "evalue": "'Indirect' object has no attribute 'parallel'",
     "output_type": "error",
     "traceback": [
      "\u001b[0;31m---------------------------------------------------------------------------\u001b[0m",
      "\u001b[0;31mAttributeError\u001b[0m                            Traceback (most recent call last)",
      "\u001b[0;32m<ipython-input-6-c04b27bd4a44>\u001b[0m in \u001b[0;36m<module>\u001b[0;34m()\u001b[0m\n\u001b[0;32m----> 1\u001b[0;31m \u001b[0mtraj\u001b[0m\u001b[0;34m.\u001b[0m\u001b[0mpropagate\u001b[0m\u001b[0;34m(\u001b[0m\u001b[0;34m)\u001b[0m\u001b[0;34m\u001b[0m\u001b[0m\n\u001b[0m",
      "\u001b[0;32m~/Dev/simple_auv_planning/src/trajectory.py\u001b[0m in \u001b[0;36mpropagate\u001b[0;34m(self)\u001b[0m\n\u001b[1;32m     31\u001b[0m \u001b[0;34m\u001b[0m\u001b[0m\n\u001b[1;32m     32\u001b[0m     \u001b[0;32mdef\u001b[0m \u001b[0mpropagate\u001b[0m\u001b[0;34m(\u001b[0m\u001b[0mself\u001b[0m\u001b[0;34m)\u001b[0m\u001b[0;34m:\u001b[0m\u001b[0;34m\u001b[0m\u001b[0m\n\u001b[0;32m---> 33\u001b[0;31m         \u001b[0;32mif\u001b[0m \u001b[0mself\u001b[0m\u001b[0;34m.\u001b[0m\u001b[0mparallel\u001b[0m\u001b[0;34m:\u001b[0m\u001b[0;34m\u001b[0m\u001b[0m\n\u001b[0m\u001b[1;32m     34\u001b[0m             \u001b[0mself\u001b[0m\u001b[0;34m.\u001b[0m\u001b[0msegments\u001b[0m \u001b[0;34m=\u001b[0m \u001b[0mTrajectory\u001b[0m\u001b[0;34m.\u001b[0m\u001b[0mpool\u001b[0m\u001b[0;34m.\u001b[0m\u001b[0mmap\u001b[0m\u001b[0;34m(\u001b[0m\u001b[0mself\u001b[0m\u001b[0;34m.\u001b[0m\u001b[0mparallel_propagate\u001b[0m\u001b[0;34m,\u001b[0m \u001b[0mself\u001b[0m\u001b[0;34m.\u001b[0m\u001b[0msegments\u001b[0m\u001b[0;34m)\u001b[0m\u001b[0;34m\u001b[0m\u001b[0m\n\u001b[1;32m     35\u001b[0m         \u001b[0;32melse\u001b[0m\u001b[0;34m:\u001b[0m\u001b[0;34m\u001b[0m\u001b[0m\n",
      "\u001b[0;31mAttributeError\u001b[0m: 'Indirect' object has no attribute 'parallel'"
     ]
    }
   ],
   "source": [
    "traj.propagate()"
   ]
  },
  {
   "cell_type": "code",
   "execution_count": null,
   "metadata": {},
   "outputs": [],
   "source": [
    "traj.segments[0].states"
   ]
  },
  {
   "cell_type": "code",
   "execution_count": null,
   "metadata": {},
   "outputs": [],
   "source": [
    "# trajectory plot    \n",
    "fig, ax = plt.subplots(1)\n",
    "ax.plot(traj.states[:, 0], traj.states[:, 1], \"k.-\")\n",
    "farm.plot(ax)\n",
    "plt.show()"
   ]
  },
  {
   "cell_type": "code",
   "execution_count": null,
   "metadata": {},
   "outputs": [],
   "source": [
    "%matplotlib\n",
    "\n",
    "# statewise plot\n",
    "fig, ax = plt.subplots(AUV.sdim*2)\n",
    "for i in range(AUV.sdim*2):\n",
    "    ax[i].plot(traj.states[:, i], \"k.-\")\n",
    "    \n",
    "# trajectory plot    \n",
    "fig, ax = plt.subplots(1)\n",
    "ax.plot(traj.states[:, 0], traj.states[:, 1], \"k.-\")\n",
    "farm.plot(ax)\n",
    "\n",
    "# controls plot    \n",
    "fig, ax = plt.subplots(AUV.udim)\n",
    "[ax[i].plot(traj.controls[:, i], \"k.-\") for i in range(AUV.udim)]\n",
    "    \n",
    "plt.show()"
   ]
  },
  {
   "cell_type": "code",
   "execution_count": null,
   "metadata": {},
   "outputs": [],
   "source": [
    "waypoints"
   ]
  },
  {
   "cell_type": "code",
   "execution_count": null,
   "metadata": {},
   "outputs": [],
   "source": [
    "zopt"
   ]
  },
  {
   "cell_type": "code",
   "execution_count": null,
   "metadata": {},
   "outputs": [],
   "source": []
  }
 ],
 "metadata": {
  "kernelspec": {
   "display_name": "Python 3",
   "language": "python",
   "name": "python3"
  },
  "language_info": {
   "codemirror_mode": {
    "name": "ipython",
    "version": 3
   },
   "file_extension": ".py",
   "mimetype": "text/x-python",
   "name": "python",
   "nbconvert_exporter": "python",
   "pygments_lexer": "ipython3",
   "version": "3.6.5"
  }
 },
 "nbformat": 4,
 "nbformat_minor": 2
}
