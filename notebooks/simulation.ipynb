{
 "cells": [
  {
   "cell_type": "markdown",
   "metadata": {},
   "source": [
    "# Waypoint surveying with behaviour trees"
   ]
  },
  {
   "cell_type": "code",
   "execution_count": 1,
   "metadata": {},
   "outputs": [],
   "source": [
    "import pygmo as pg, numpy as np, sys; sys.path.append(\"../src/\")"
   ]
  },
  {
   "cell_type": "markdown",
   "metadata": {},
   "source": [
    "# Farm environment"
   ]
  },
  {
   "cell_type": "code",
   "execution_count": 2,
   "metadata": {},
   "outputs": [
    {
     "data": {
      "image/png": "[encoded data removed]",
      "text/plain": [
       "<Figure size 432x288 with 1 Axes>"
      ]
     },
     "execution_count": 2,
     "metadata": {},
     "output_type": "execute_result"
    }
   ],
   "source": [
    "from farm import Farm\n",
    "\n",
    "# padding between walls and farm border\n",
    "dx, dy = 5, 10\n",
    "\n",
    "# wall seperation\n",
    "dw = 10\n",
    "\n",
    "# wall length\n",
    "lx = 10\n",
    "\n",
    "# number of walls\n",
    "N = 1\n",
    "\n",
    "# dock coordinates\n",
    "dsx, dsy = 30, 50\n",
    "\n",
    "# instantiate farm\n",
    "farm = Farm(dx, dy, dw, lx, N, dsx, dsy)\n",
    "\n",
    "# compute sequenced coverage way points\n",
    "waypoints = farm.simple_coverage()\n",
    "\n",
    "# visualise\n",
    "farm.plot()"
   ]
  },
  {
   "cell_type": "markdown",
   "metadata": {},
   "source": [
    "## Dynamics\n",
    "$\n",
    "\\dot{\\boldsymbol{s}} =\n",
    "\\left[\\begin{matrix}v_{x} & v_{y} & \\frac{T u_{x}}{m} u_{t} & \\frac{T u_{y}}{m} u_{t}\\end{matrix}\\right] ^\\intercal\n",
    "$"
   ]
  },
  {
   "cell_type": "code",
   "execution_count": 3,
   "metadata": {},
   "outputs": [],
   "source": [
    "from dynamics import Dynamics\n",
    "\n",
    "# maximum thrust [N]\n",
    "thrust = 5\n",
    "\n",
    "# mass [kg]\n",
    "mass = 25\n",
    "\n",
    "# instantiate AUV\n",
    "AUV = Dynamics(thrust, mass)\n",
    "AUV.alpha = 0"
   ]
  },
  {
   "cell_type": "markdown",
   "metadata": {},
   "source": [
    "## Segment"
   ]
  },
  {
   "cell_type": "code",
   "execution_count": null,
   "metadata": {
    "scrolled": false
   },
   "outputs": [],
   "source": [
    "from segment import Indirect\n",
    "\n",
    "# instantiate indirect segment\n",
    "seg = Indirect(AUV)\n",
    "\n",
    "# duration bounds\n",
    "Tlb, Tub = 1, 500\n",
    "\n",
    "# waypoints velocity constraints\n",
    "vlb, vub = 0, 0\n",
    "\n",
    "# initial state bounds\n",
    "p0 = [farm.dsx, farm.dsy]\n",
    "s0lb = [*p0, 0, 0]\n",
    "s0ub = [*p0, 0, 0]\n",
    "\n",
    "# initial state bounds\n",
    "pf = waypoints[0]\n",
    "sflb = [*pf, vlb, vlb]\n",
    "sfub = [*pf, vub, vub]\n",
    "\n",
    "# set segment bounds\n",
    "seg.set_bounds(Tlb, Tub, s0lb, s0ub, sflb, sfub)\n",
    "\n",
    "# solve\n",
    "#seg.solve(otol=1e-5)"
   ]
  },
  {
   "cell_type": "markdown",
   "metadata": {},
   "source": [
    "## Trajectory"
   ]
  },
  {
   "cell_type": "code",
   "execution_count": null,
   "metadata": {},
   "outputs": [],
   "source": [
    "from trajectory import Indirect\n",
    "\n",
    "# inirect trajectory\n",
    "traj = Indirect(AUV)\n",
    "\n",
    "# assemble bounds\n",
    "slb = np.hstack((waypoints, np.full((len(waypoints), 2), vlb)))\n",
    "sub = np.hstack((waypoints, np.full((len(waypoints), 2), vub)))\n",
    "Tlb, Tub = 1, 1000\n",
    "\n",
    "# set trajectory\n",
    "traj.set_bounds(Tlb, Tub, slb, sub)\n",
    "\n",
    "# solve\n",
    "traj.solve()"
   ]
  },
  {
   "cell_type": "code",
   "execution_count": null,
   "metadata": {},
   "outputs": [],
   "source": [
    "import matplotlib.pyplot as plt\n",
    "traj.times"
   ]
  },
  {
   "cell_type": "code",
   "execution_count": null,
   "metadata": {},
   "outputs": [],
   "source": []
  }
 ],
 "metadata": {
  "kernelspec": {
   "display_name": "Python 3",
   "language": "python",
   "name": "python3"
  },
  "language_info": {
   "codemirror_mode": {
    "name": "ipython",
    "version": 3
   },
   "file_extension": ".py",
   "mimetype": "text/x-python",
   "name": "python",
   "nbconvert_exporter": "python",
   "pygments_lexer": "ipython3",
   "version": "3.6.5"
  }
 },
 "nbformat": 4,
 "nbformat_minor": 2
}
